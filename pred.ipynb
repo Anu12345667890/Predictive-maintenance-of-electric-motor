{
 "cells": [
  {
   "cell_type": "code",
   "execution_count": null,
   "id": "3bafc9f2",
   "metadata": {},
   "outputs": [],
   "source": [
    "import numpy as np \n",
    "import matplotlib.pyplot as plt \n",
    "import pandas as pd data = pd.read_csv('Datasets.csv') \n",
    "print(data) \n",
    "x= df.iloc [:, : -1]\n",
    "y= df.iloc [:, -1 :] \n",
    "from sklearn.ensemble import RandomForestRegressor \n",
    "from sklearn.model_selection import train_test_split  \n",
    "x_train, x_test, y_train, y_test= train_test_split(x, y, test_size= 0.25, random_state=0)  \n",
    "  x_train, x_test, y_train, y_test= train_test_split(x, y, test_size= 0.25, random_state=0)  \n",
    " \n",
    "from sklearn.preprocessing import StandardScaler    \n",
    "st_x= StandardScaler()    \n",
    "x_train= st_x.fit_transform(x_train)    \n",
    "x_test= st_x.transform(x_test)    "
   ]
  },
  {
   "cell_type": "code",
   "execution_count": null,
   "id": "d38f739e",
   "metadata": {},
   "outputs": [],
   "source": [
    "from sklearn.ensemble import RandomForestClassifier  \n",
    "classifier= RandomForestClassifier(n_estimators= 10, criterion=\"entropy\")  \n",
    "classifier.fit(x_train, y_train)  \n",
    "regressor = RandomForestRegressor(n_estimators = 100, random_state = 0) \n",
    "regressor.fit(x, y) \n",
    "Y_pred = regressor.predict(np.array([6.5]).reshape(1, 1))  \n",
    "X_grid = np.arrange(min(x), max(x), 0.01)           \n",
    "X_grid = X_grid.reshape((len(X_grid), 1)) \n",
    "plt.scatter(x, y, color = 'blue')   \n",
    "plt.plot(X_grid, regressor.predict(X_grid),  color = 'green')\n",
    "plt.title('')\n",
    "plt.xlabel('rpm of motor') \n",
    "plt.ylabel('temp range') \n",
    "plt.show()\n"
   ]
  },
  {
   "cell_type": "code",
   "execution_count": null,
   "id": "72a451e2",
   "metadata": {},
   "outputs": [],
   "source": [
    "import numpy as np \n",
    "import matplotlib.pyplot as plt \n",
    "mport pandas as pd \n",
    "data = pd.read_csv('Datasets.csv') \n",
    "\n",
    "print(data) \n",
    "x= df.iloc [:, : -1]\n",
    "y= df.iloc [:, -1 :] \n",
    "from sklearn.ensemble import RandomForestRegressor \n",
    "from sklearn.model_selection import train_test_split  \n",
    "x_train, x_test, y_train, y_test= train_test_split(x, y, test_size= 0.25, random_state=0)  \n",
    "  x_train, x_test, y_train, y_test= train_test_split(x, y, test_size= 0.25, random_state=0)  \n",
    " \n",
    "from sklearn.preprocessing import StandardScaler    \n",
    "st_x= StandardScaler()    \n",
    "x_train= st_x.fit_transform(x_train)    \n",
    "x_test= st_x.transform(x_test)     \n"
   ]
  },
  {
   "cell_type": "code",
   "execution_count": null,
   "id": "734a35de",
   "metadata": {},
   "outputs": [],
   "source": [
    "from sklearn.ensemble import RandomForestClassifier  \n",
    "classifier= RandomForestClassifier(n_estimators= 10, criterion=\"entropy\")  \n",
    "classifier.fit(x_train, y_train)  \n",
    "regressor = RandomForestRegressor(n_estimators = 100, random_state = 0) \n",
    "regressor.fit(x, y) \n",
    "Y_pred = regressor.predict(np.array([6.5]).reshape(1, 1))  \n",
    " X_grid = np.arrange(min(x), max(x), 0.01)           \n",
    " X_grid = X_grid.reshape((len(X_grid), 1)) \n",
    "plt.scatter(x, y, color = 'blue')   \n",
    "plt.plot(X_grid, regressor.predict(X_grid),  color = 'green')  \n",
    "plt.title('') \n",
    "plt.xlabel('rpm of motor') \n",
    "plt.ylabel('temp range') \n",
    "plt.show()\n"
   ]
  }
 ],
 "metadata": {
  "kernelspec": {
   "display_name": "Python 3 (ipykernel)",
   "language": "python",
   "name": "python3"
  },
  "language_info": {
   "codemirror_mode": {
    "name": "ipython",
    "version": 3
   },
   "file_extension": ".py",
   "mimetype": "text/x-python",
   "name": "python",
   "nbconvert_exporter": "python",
   "pygments_lexer": "ipython3",
   "version": "3.10.9"
  }
 },
 "nbformat": 4,
 "nbformat_minor": 5
}
